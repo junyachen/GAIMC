{
 "cells": [
  {
   "cell_type": "code",
   "execution_count": 16,
   "metadata": {
    "collapsed": false
   },
   "outputs": [],
   "source": [
    "from sklearn.linear_model import LogisticRegression\n",
    "from sklearn.preprocessing import MultiLabelBinarizer\n",
    "from sklearn.metrics import f1_score\n",
    "from sklearn.metrics import accuracy_score\n",
    "\n",
    "class Classifier(object):\n",
    "\n",
    "    def __init__(self):\n",
    "        None\n",
    "\n",
    "    def split_train_evaluate(self, X, train_precent, seed=0):\n",
    "        state = numpy.random.get_state()\n",
    "\n",
    "        training_size = int(train_precent * len(X))\n",
    "        validate_size = int((len(X) - training_size) / 2 + training_size)\n",
    "        \n",
    "        \n",
    "        numpy.random.seed(seed)\n",
    "        shuffle_indices = numpy.random.permutation(numpy.arange(len(X)))\n",
    "        \n",
    "        X_train = [X[shuffle_indices[i]] for i in range(training_size)]\n",
    "        X_test = [X[shuffle_indices[i]] for i in range(training_size, len(X))]\n",
    "        \n",
    "\n",
    "        numpy.random.set_state(state)\n",
    "        return X_train, X_test\n",
    "\n",
    "filename = 'Gowalla/total.txt'\n",
    "\n",
    "def read_node_label(filename):\n",
    "    fin = open(filename, 'r')\n",
    "    X = []\n",
    "    while 1:\n",
    "        l = fin.readline()\n",
    "        if l == '':\n",
    "            break\n",
    "        l = l.strip()\n",
    "        X.append(l)\n",
    "    fin.close()\n",
    "    return X\n",
    "X  = read_node_label(filename)"
   ]
  },
  {
   "cell_type": "code",
   "execution_count": 17,
   "metadata": {
    "collapsed": false
   },
   "outputs": [
    {
     "name": "stdout",
     "output_type": "stream",
     "text": [
      "394855\n",
      "39485 355370 394855\n",
      "394855\n",
      "78971 315884 394855\n",
      "394855\n",
      "118456 276399 394855\n",
      "394855\n",
      "157942 236913 394855\n",
      "394855\n",
      "197427 197428 394855\n",
      "394855\n",
      "236913 157942 394855\n",
      "394855\n",
      "276398 118457 394855\n",
      "394855\n",
      "315884 78971 394855\n",
      "394855\n",
      "355369 39486 394855\n"
     ]
    }
   ],
   "source": [
    "import numpy\n",
    "import numpy as np\n",
    "# for i in np.arange(0.15, 1.0, 0.1):\n",
    "#     clf_ratio = np.round(i,2) \n",
    "#     clf = Classifier()\n",
    "#     X_train, X_valid, X_test = clf.split_train_evaluate(X, clf_ratio)\n",
    "    \n",
    "#     print(len(X_train), len(X_valid), len(X_test), len(X_train) + len(X_valid) + len(X_test))\n",
    "\n",
    "for split_part in np.arange(0.1, 1.0, 0.1):\n",
    "    clf_ratio = np.round(split_part,2) \n",
    "    clf = Classifier()\n",
    "    X_train,  X_test = clf.split_train_evaluate(X, clf_ratio)\n",
    "\n",
    "    print(len(X))\n",
    "    print(len(X_train), len(X_test), len(X_train) + len(X_test))\n",
    "    \n",
    "    #save_file = 'Foursquare/split_data/'+str(clf_ratio)+'_train_file.txt'\n",
    "    save_file = 'Gowalla/split_data/'+str(clf_ratio)+'_train_file.txt'\n",
    "    \n",
    "\n",
    "    fout = open(save_file, 'w')\n",
    "    for i in X_train:\n",
    "        fout.write(\"{}\\n\".format(i))\n",
    "    fout.close()\n",
    "\n",
    "    #save_file = 'Foursquare/split_data/'+str(clf_ratio)+'_test_file.txt'\n",
    "    save_file = 'Gowalla/split_data/'+str(clf_ratio)+'_test_file.txt'\n",
    "    \n",
    "    fout = open(save_file, 'w')\n",
    "    for i in X_test:\n",
    "        fout.write(\"{}\\n\".format(i))\n",
    "    fout.close()"
   ]
  },
  {
   "cell_type": "code",
   "execution_count": null,
   "metadata": {
    "collapsed": true
   },
   "outputs": [],
   "source": []
  }
 ],
 "metadata": {
  "kernelspec": {
   "display_name": "Python 3",
   "language": "python",
   "name": "python3"
  },
  "language_info": {
   "codemirror_mode": {
    "name": "ipython",
    "version": 3
   },
   "file_extension": ".py",
   "mimetype": "text/x-python",
   "name": "python",
   "nbconvert_exporter": "python",
   "pygments_lexer": "ipython3",
   "version": "3.6.8"
  }
 },
 "nbformat": 4,
 "nbformat_minor": 2
}
